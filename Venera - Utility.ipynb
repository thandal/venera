{
 "cells": [
  {
   "cell_type": "code",
   "execution_count": 2,
   "metadata": {},
   "outputs": [],
   "source": [
    "ROOT_PREFIX = \"/mnt/c/Users/natha/Downloads/venus/arecibo_radar/pds-geosciences.wustl.edu/venus/arcb_nrao-v-rtls_gbt-3-delaydoppler-v1/vrm_90xx/\"\n",
    "DATA_PREFIX = ROOT_PREFIX + \"data/\"\n"
   ]
  },
  {
   "cell_type": "code",
   "execution_count": 21,
   "metadata": {},
   "outputs": [
    {
     "name": "stdout",
     "output_type": "stream",
     "text": [
      "venus_ocp_19880617_145820.img_roll_0.png\n",
      "venus_ocp_20120527_164944.img_roll_75.png\n",
      "venus_ocp_20120527_165359.img_roll_92.png\n",
      "venus_ocp_20120527_165814.img_roll_44.png\n",
      "venus_ocp_20120528_160100.img_roll_96.png\n",
      "venus_ocp_20120528_160514.img_roll_94.png\n",
      "venus_ocp_20120528_160929.img_roll_98.png\n",
      "venus_ocp_20120528_161344.img_roll_95.png\n",
      "venus_ocp_20120528_161759.img_roll_-98.png\n",
      "venus_ocp_20120528_162214.img_roll_-97.png\n",
      "venus_ocp_20120528_162629.img_roll_-100.png\n",
      "venus_ocp_20120528_163044.img_roll_-100.png\n",
      "venus_ocp_20120528_163459.img_roll_-100.png\n",
      "venus_ocp_20120528_163914.img_roll_-46.png\n",
      "venus_ocp_20120528_164329.img_roll_38.png\n",
      "venus_ocp_20120528_164744.img_roll_42.png\n",
      "venus_ocp_20120528_165159.img_roll_-75.png\n",
      "venus_ocp_20120528_165614.img_roll_-72.png\n",
      "venus_ocp_20120528_170029.img_roll_20.png\n",
      "venus_ocp_20120528_170444.img_roll_36.png\n",
      "venus_ocp_20120528_170859.img_roll_26.png\n",
      "venus_ocp_20120528_171314.img_roll_-94.png\n",
      "venus_ocp_20120528_171729.img_roll_-100.png\n",
      "venus_ocp_20120528_172144.img_roll_-100.png\n",
      "venus_ocp_20120528_172559.img_roll_-98.png\n",
      "venus_ocp_20120528_173014.img_roll_-93.png\n",
      "venus_ocp_20120528_173429.img_roll_-99.png\n",
      "venus_ocp_20120528_173844.img_roll_-100.png\n",
      "venus_ocp_20120528_174259.img_roll_-98.png\n",
      "venus_ocp_20120528_174714.img_roll_-99.png\n",
      "venus_ocp_20120528_175129.img_roll_-93.png\n",
      "venus_ocp_20120528_175544.img_roll_-100.png\n",
      "venus_ocp_20120528_175959.img_roll_-100.png\n",
      "venus_ocp_20120528_180414.img_roll_-99.png\n",
      "venus_ocp_20120528_180829.img_roll_-98.png\n",
      "venus_ocp_20120528_181244.img_roll_-95.png\n",
      "venus_ocp_20120528_181659.img_roll_-97.png\n",
      "venus_ocp_20120528_182114.img_roll_-99.png\n",
      "venus_ocp_20120528_182529.img_roll_-99.png\n",
      "venus_ocp_20120528_182944.img_roll_-100.png\n",
      "venus_ocp_20120528_183359.img_roll_-100.png\n",
      "venus_ocp_20120531_165200.img_roll_100.png\n",
      "venus_ocp_20120531_165614.img_roll_-100.png\n",
      "venus_ocp_20120531_170029.img_roll_-100.png\n",
      "venus_ocp_20120531_170444.img_roll_-100.png\n",
      "venus_ocp_20120531_170859.img_roll_-100.png\n",
      "venus_ocp_20120531_171314.img_roll_-99.png\n",
      "venus_ocp_20120531_171729.img_roll_-100.png\n",
      "venus_ocp_20120531_172144.img_roll_-100.png\n",
      "venus_ocp_20120531_172559.img_roll_-98.png\n",
      "venus_ocp_20120531_173014.img_roll_-100.png\n",
      "venus_ocp_20120531_173429.img_roll_-100.png\n",
      "venus_ocp_20120531_173844.img_roll_-28.png\n",
      "venus_ocp_20120531_174259.img_roll_35.png\n",
      "venus_ocp_20120531_174714.img_roll_25.png\n",
      "venus_ocp_20120531_175129.img_roll_-1.png\n",
      "venus_ocp_20120531_175544.img_roll_1.png\n",
      "venus_ocp_20120531_175959.img_roll_-99.png\n",
      "venus_ocp_20120531_180414.img_roll_-97.png\n",
      "venus_ocp_20120531_180829.img_roll_-100.png\n",
      "venus_ocp_20120531_181244.img_roll_-100.png\n",
      "venus_ocp_20120531_181659.img_roll_-99.png\n",
      "venus_ocp_20150811_162113.img_roll_-22.png\n"
     ]
    }
   ],
   "source": [
    "# Match up triaged files (but with the wrong roll values) with untriaged files (that have correct roll values)\n",
    "import os\n",
    "\n",
    "#TRIAGE_PREFIX = ROOT_PREFIX + \"TRIAGE_GOOD/\"\n",
    "#TRIAGE_PREFIX = ROOT_PREFIX + \"TRIAGE_BAD_ROLL/\"\n",
    "#TRIAGE_PREFIX = ROOT_PREFIX + \"TRIAGE_LOW_QUALITY/\"\n",
    "TRIAGE_PREFIX = ROOT_PREFIX + \"TRIAGE_BLANK/\"\n",
    "T = set()\n",
    "filenames = os.listdir(TRIAGE_PREFIX)\n",
    "for filename in filenames:\n",
    "    if not \"_roll_\" in filename: continue\n",
    "    T.add(filename[:25])\n",
    "\n",
    "filenames = os.listdir(DATA_PREFIX)\n",
    "for filename in filenames:\n",
    "    if not \"_roll_\" in filename: continue\n",
    "    if filename[:25] in T:\n",
    "        print(filename)\n",
    "        badfile = TRIAGE_PREFIX + filename[:25] + \".img_roll_100.png\"\n",
    "        sourcefile = DATA_PREFIX + filename\n",
    "        ! rm $badfile\n",
    "        ! mv $sourcefile $TRIAGE_PREFIX\n"
   ]
  },
  {
   "cell_type": "code",
   "execution_count": 7,
   "metadata": {},
   "outputs": [],
   "source": [
    "! touch foo\n"
   ]
  },
  {
   "cell_type": "code",
   "execution_count": 8,
   "metadata": {},
   "outputs": [],
   "source": [
    "! mv foo foobar"
   ]
  },
  {
   "cell_type": "code",
   "execution_count": 10,
   "metadata": {},
   "outputs": [
    {
     "name": "stdout",
     "output_type": "stream",
     "text": [
      "mv: missing destination file operand after 'baz'\n",
      "Try 'mv --help' for more information.\n"
     ]
    }
   ],
   "source": [
    "b = \"foo\"\n",
    "c = \"bar\"\n",
    "\n",
    "! mv ${b + c} baz"
   ]
  },
  {
   "cell_type": "code",
   "execution_count": 17,
   "metadata": {},
   "outputs": [
    {
     "name": "stdout",
     "output_type": "stream",
     "text": [
      "foobar baz\n"
     ]
    }
   ],
   "source": [
    "! echo $b$cbaz"
   ]
  },
  {
   "cell_type": "code",
   "execution_count": null,
   "metadata": {},
   "outputs": [],
   "source": []
  }
 ],
 "metadata": {
  "kernelspec": {
   "display_name": "Python 3 (ipykernel)",
   "language": "python",
   "name": "python3"
  },
  "orig_nbformat": 4
 },
 "nbformat": 4,
 "nbformat_minor": 2
}
