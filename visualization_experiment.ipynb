{
 "cells": [
  {
   "cell_type": "code",
   "execution_count": 1,
   "metadata": {},
   "outputs": [],
   "source": [
    "from matplotlib import pyplot as pl\n",
    "import imageio\n",
    "import numpy as np\n",
    "import os\n",
    "import pickle"
   ]
  },
  {
   "cell_type": "code",
   "execution_count": 2,
   "metadata": {},
   "outputs": [],
   "source": [
    "ROOT_PREFIX = \"data_venus/arecibo_radar/pds-geosciences.wustl.edu/venus/arcb_nrao-v-rtls_gbt-3-delaydoppler-v1/vrm_90xx/\"\n",
    "DATA_PREFIX = ROOT_PREFIX + \"data/\""
   ]
  },
  {
   "cell_type": "code",
   "execution_count": 3,
   "metadata": {},
   "outputs": [],
   "source": [
    "def process(img_in, percentile=99):\n",
    "    img = img_in.copy()\n",
    "    img = np.abs(img)\n",
    "    img -= img.min()\n",
    "    img /= img.max()\n",
    "    percentile_thresh = np.percentile(img.ravel(), percentile)\n",
    "    img = np.where(img > percentile_thresh, percentile_thresh, img)\n",
    "    return img"
   ]
  },
  {
   "cell_type": "code",
   "execution_count": 4,
   "metadata": {},
   "outputs": [],
   "source": [
    "import imageio\n",
    "\n",
    "def imwrite(filename, img):\n",
    "    img -= img.min()\n",
    "    img /= (img.max() / 255)\n",
    "    imageio.imwrite(filename, img.astype(np.uint8))"
   ]
  },
  {
   "cell_type": "code",
   "execution_count": 5,
   "metadata": {},
   "outputs": [],
   "source": [
    "#basename = \"20200524_182906\"\n",
    "basename = \"20150812_155242\"\n",
    "scp_img = np.memmap(DATA_PREFIX + \"venus_scp_\" + basename + \".img\", dtype=\"<F\", shape=(8191, 8192), mode=\"r\")  # 'F' is complex single-precision: a complex number type of 2 32-bit precision floating-point numbers.\n",
    "ocp_img = np.memmap(DATA_PREFIX + \"venus_ocp_\" + basename + \".img\", dtype=\"<F\", shape=(8191, 8192), mode=\"r\")  # 'F' is complex single-precision: a complex number type of 2 32-bit precision floating-point numbers."
   ]
  },
  {
   "cell_type": "code",
   "execution_count": 6,
   "metadata": {},
   "outputs": [],
   "source": [
    "#scp_img_real = scp_img.real\n",
    "#scp_img_imag = scp_img.imag\n",
    "scp_img_abs = np.abs(scp_img)\n",
    "scp_img_abs = np.roll(scp_img_abs, -29, axis=0)"
   ]
  },
  {
   "cell_type": "code",
   "execution_count": null,
   "metadata": {},
   "outputs": [],
   "source": [
    "pl.plot(np.sum(scp_img_abs[:, :100], axis=1))"
   ]
  },
  {
   "cell_type": "code",
   "execution_count": null,
   "metadata": {},
   "outputs": [],
   "source": [
    "pl.plot(np.sum(scp_img_abs[8000:8100, :], axis=0), 'r-')"
   ]
  },
  {
   "cell_type": "code",
   "execution_count": 7,
   "metadata": {},
   "outputs": [],
   "source": [
    "#scp_img_real_99 = process(scp_img_real)\n",
    "#scp_img_imag_99 = process(scp_img_imag)\n",
    "scp_img_abs_99 = process(scp_img_abs)"
   ]
  },
  {
   "cell_type": "code",
   "execution_count": 16,
   "metadata": {},
   "outputs": [],
   "source": [
    "#imwrite('scp_img_real_99.png', scp_img_real_99)\n",
    "#imwrite('scp_img_imag_99.png', scp_img_imag_99)\n",
    "imwrite('scp_img_abs_99.png', scp_img_abs_99)"
   ]
  },
  {
   "attachments": {},
   "cell_type": "markdown",
   "metadata": {},
   "source": [
    "## OCP"
   ]
  },
  {
   "cell_type": "code",
   "execution_count": 10,
   "metadata": {},
   "outputs": [],
   "source": [
    "ocp_img_abs = np.abs(ocp_img)\n",
    "ocp_img_abs = np.roll(ocp_img_abs, -29, axis=0)"
   ]
  },
  {
   "cell_type": "code",
   "execution_count": 15,
   "metadata": {},
   "outputs": [],
   "source": [
    "# Correct by baud rate, which determines range, which determines angle of reflection\n",
    "#echo_power = 1 - np.cos(np.linspace(0, np.pi / 2, ocp_img_abs.shape[0])) + 1e-1  # Add a litte to avoid zero.\n",
    "echo_power = 10 / np.linspace(1, 1000, ocp_img_abs.shape[0]) + 0.04\n",
    "ocp_img_abs_pow = (ocp_img_abs.T / echo_power).T\n",
    "#imwrite('ocp_img_abs_pow.png', ocp_img_abs_pow)"
   ]
  },
  {
   "cell_type": "code",
   "execution_count": null,
   "metadata": {},
   "outputs": [],
   "source": [
    "#pl.plot(np.log(np.sum(ocp_img_abs[:, :100], axis=1)), 'r-')\n",
    "#pl.plot(np.log(10 / np.linspace(1, 1000, ocp_img_abs.shape[0]) + 0.04))\n",
    "\n",
    "pl.plot(np.sum(ocp_img_abs[:, :100], axis=1), 'r-')\n",
    "pl.plot(np.sum(ocp_img_abs_pow[:, :100], axis=1), 'g-')"
   ]
  },
  {
   "cell_type": "code",
   "execution_count": 13,
   "metadata": {},
   "outputs": [],
   "source": [
    "ocp_img_abs_pow_99 = process(ocp_img_abs_pow)\n",
    "imwrite('ocp_img_abs_pow_99.png', ocp_img_abs_pow_99)"
   ]
  },
  {
   "attachments": {},
   "cell_type": "markdown",
   "metadata": {},
   "source": [
    "# SUM and BLEND for optimal appearance"
   ]
  },
  {
   "cell_type": "code",
   "execution_count": 14,
   "metadata": {},
   "outputs": [],
   "source": [
    "sum_img_abs = scp_img_abs_99 + ocp_img_abs_pow_99\n",
    "sum_img_abs_99 = process(sum_img_abs)\n",
    "imwrite('sum_img_abs_99.png', sum_img_abs_99)"
   ]
  },
  {
   "cell_type": "code",
   "execution_count": 22,
   "metadata": {},
   "outputs": [
    {
     "data": {
      "image/png": "[encoded data removed]",
      "text/plain": [
       "<Figure size 640x480 with 1 Axes>"
      ]
     },
     "metadata": {},
     "output_type": "display_data"
    }
   ],
   "source": [
    "blend = np.concatenate((np.zeros(1000), np.linspace(0, 1, 2000), np.ones(5191)))\n",
    "pl.plot(blend)\n",
    "blend_img_abs_99 = (ocp_img_abs_pow_99.T * blend + scp_img_abs_99.T * (1 - blend)).T\n",
    "imwrite('blend_img_abs_99.png', blend_img_abs_99)"
   ]
  },
  {
   "attachments": {},
   "cell_type": "markdown",
   "metadata": {},
   "source": [
    "# Map projections"
   ]
  },
  {
   "cell_type": "code",
   "execution_count": 4,
   "metadata": {},
   "outputs": [],
   "source": [
    "import numpy as np\n",
    "\n",
    "def goldenSpiralGrid(n_points):  # aka Fibonacci spiral or lattice\n",
    "    # See http://extremelearning.com.au/how-to-evenly-distribute-points-on-a-sphere-more-effectively-than-the-canonical-fibonacci-lattice/#more-3069\n",
    "    # This function is good for *area* accuracy. There are better constants for *distance* accuracy.\n",
    "    i = np.arange(0, n_points, dtype=np.float32) + 0.5\n",
    "    lon = np.pi * (1 + 5**0.5) * i\n",
    "    lat = np.arcsin(1 - 2 * i / n_points)\n",
    "    return lon, lat"
   ]
  },
  {
   "cell_type": "code",
   "execution_count": 6,
   "metadata": {},
   "outputs": [
    {
     "name": "stdout",
     "output_type": "stream",
     "text": [
      "n_points=460264736\n"
     ]
    }
   ],
   "source": [
    "# If we want to have approximately 1 sq km cells across the surface of Venus, we need\n",
    "#   number of points = surface_area in km2\n",
    "#                    = 4 pi 6051.8**2\n",
    "n_points = int(4 * np.pi * 6052**2)\n",
    "print(f\"{n_points=}\")\n",
    "lon, lat = goldenSpiralGrid(n_points)"
   ]
  },
  {
   "cell_type": "code",
   "execution_count": 1,
   "metadata": {},
   "outputs": [
    {
     "ename": "NameError",
     "evalue": "name 'lon' is not defined",
     "output_type": "error",
     "traceback": [
      "\u001b[0;31m---------------------------------------------------------------------------\u001b[0m",
      "\u001b[0;31mNameError\u001b[0m                                 Traceback (most recent call last)",
      "Cell \u001b[0;32mIn[1], line 1\u001b[0m\n\u001b[0;32m----> 1\u001b[0m lon\u001b[39m.\u001b[39mshape\n",
      "\u001b[0;31mNameError\u001b[0m: name 'lon' is not defined"
     ]
    }
   ],
   "source": [
    "lon"
   ]
  },
  {
   "cell_type": "code",
   "execution_count": null,
   "metadata": {},
   "outputs": [],
   "source": []
  }
 ],
 "metadata": {
  "kernelspec": {
   "display_name": "Python 3 (ipykernel)",
   "language": "python",
   "name": "python3"
  },
  "language_info": {
   "codemirror_mode": {
    "name": "ipython",
    "version": 3
   },
   "file_extension": ".py",
   "mimetype": "text/x-python",
   "name": "python",
   "nbconvert_exporter": "python",
   "pygments_lexer": "ipython3",
   "version": "3.10.6"
  },
  "orig_nbformat": 4
 },
 "nbformat": 4,
 "nbformat_minor": 2
}
