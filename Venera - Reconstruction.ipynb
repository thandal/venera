{
 "cells": [
  {
   "cell_type": "markdown",
   "metadata": {},
   "source": [
    "## Experiment N/S Iterative Reconstruction"
   ]
  },
  {
   "cell_type": "code",
   "execution_count": null,
   "metadata": {
    "executionInfo": {
     "elapsed": 361,
     "status": "ok",
     "timestamp": 1669567038063,
     "user": {
      "displayName": "Nathaniel Fairfield",
      "userId": "09088445613731179845"
     },
     "user_tz": 300
    },
    "id": "7EYDl7lDvQa1",
    "vscode": {
     "languageId": "python"
    }
   },
   "outputs": [],
   "source": [
    "import math\n",
    "import numpy as np\n",
    "from matplotlib import pylab as plt"
   ]
  },
  {
   "cell_type": "code",
   "execution_count": null,
   "metadata": {
    "executionInfo": {
     "elapsed": 201,
     "status": "ok",
     "timestamp": 1669567229484,
     "user": {
      "displayName": "Nathaniel Fairfield",
      "userId": "09088445613731179845"
     },
     "user_tz": 300
    },
    "id": "o9h69PEJ0apS",
    "vscode": {
     "languageId": "python"
    }
   },
   "outputs": [],
   "source": [
    "## Slow code for drawing a circle\n",
    "def slowCircle(D, x, y, r, v):\n",
    "  for i in range(1000):\n",
    "    a = i / 1000 * 2 * math.pi\n",
    "    xc = x + r * math.cos(a)\n",
    "    yc = y + r * math.sin(a)\n",
    "    D[int(xc), int(yc)] = v"
   ]
  },
  {
   "cell_type": "code",
   "execution_count": null,
   "metadata": {
    "colab": {
     "base_uri": "https://localhost:8080/",
     "height": 611
    },
    "executionInfo": {
     "elapsed": 244,
     "status": "ok",
     "timestamp": 1669567229952,
     "user": {
      "displayName": "Nathaniel Fairfield",
      "userId": "09088445613731179845"
     },
     "user_tz": 300
    },
    "id": "5XhTjhvK_I5C",
    "outputId": "a8843889-e102-4cce-894e-a10767c9350c",
    "vscode": {
     "languageId": "python"
    }
   },
   "outputs": [],
   "source": [
    "## Set up \"ground truth\" image.\n",
    "D = np.zeros((200, 200))\n",
    "# Northern\n",
    "slowCircle(D, 30, 50, 20, 1)\n",
    "slowCircle(D, 30, 50, 10, 0.5)\n",
    "slowCircle(D, 100, 20, 10, 1)\n",
    "# Southern\n",
    "slowCircle(D, 20, 180, 5, 1)\n",
    "slowCircle(D, 40, 180, 5, 1)\n",
    "slowCircle(D, 30, 170, 5, 1)\n",
    "slowCircle(D, 100, 180, 5, 0.2)\n",
    "slowCircle(D, 120, 180, 5, 0.2)\n",
    "slowCircle(D, 110, 170, 5, 0.2)\n",
    "\n",
    "plt.figure(figsize=(10, 10))\n",
    "plt.imshow(D.T, interpolation='None')"
   ]
  },
  {
   "cell_type": "code",
   "execution_count": null,
   "metadata": {
    "colab": {
     "base_uri": "https://localhost:8080/",
     "height": 611
    },
    "executionInfo": {
     "elapsed": 417,
     "status": "ok",
     "timestamp": 1669567230367,
     "user": {
      "displayName": "Nathaniel Fairfield",
      "userId": "09088445613731179845"
     },
     "user_tz": 300
    },
    "id": "Qs6CXPtM1WSS",
    "outputId": "06a8a150-0653-4960-db2d-efb6375b5e02",
    "vscode": {
     "languageId": "python"
    }
   },
   "outputs": [],
   "source": [
    "## Simulate the latitude ambiguity effect\n",
    "\n",
    "def simScan(D, slew=0):\n",
    "  alpha = 0.2\n",
    "  Df = np.flip(D, axis=1).copy()\n",
    "  Df[:, :100] = np.roll(Df[:, :100], -slew, axis=0)\n",
    "  Df[:, 100:] = np.roll(Df[:, 100:], slew, axis=0)\n",
    "  return (1 - alpha) * D + alpha * Df \n",
    "\n",
    "Ds = simScan(D, 10)\n",
    "\n",
    "plt.figure(figsize=(10, 10))\n",
    "plt.imshow(Ds.T, interpolation='None')\n"
   ]
  },
  {
   "cell_type": "code",
   "execution_count": null,
   "metadata": {
    "colab": {
     "base_uri": "https://localhost:8080/",
     "height": 594
    },
    "executionInfo": {
     "elapsed": 815,
     "status": "ok",
     "timestamp": 1669570440973,
     "user": {
      "displayName": "Nathaniel Fairfield",
      "userId": "09088445613731179845"
     },
     "user_tz": 300
    },
    "id": "s2A2JoI-5PZ5",
    "outputId": "afc44f7b-ad91-4d2b-926e-cd4ce2b10ea0",
    "vscode": {
     "languageId": "python"
    }
   },
   "outputs": [],
   "source": [
    "## Simulate multiple views\n",
    "\n",
    "DS = []\n",
    "slewSchedule = range(10)\n",
    "noiseS = 0.1\n",
    "for i in range(len(slewSchedule)):\n",
    "  DS.append(simScan(D, slewSchedule[i]) + np.random.randn(200, 200) * noiseS)\n",
    "\n",
    "if 1:  # Show DSave   \n",
    "  DSave = np.mean(DS, axis=0)\n",
    "  plt.figure(figsize=(10, 10))\n",
    "  plt.imshow(DSave.T, interpolation='None')"
   ]
  },
  {
   "cell_type": "code",
   "execution_count": null,
   "metadata": {
    "colab": {
     "base_uri": "https://localhost:8080/",
     "height": 872
    },
    "executionInfo": {
     "elapsed": 1017,
     "status": "ok",
     "timestamp": 1669570454089,
     "user": {
      "displayName": "Nathaniel Fairfield",
      "userId": "09088445613731179845"
     },
     "user_tz": 300
    },
    "id": "ap7i8JQL-9FZ",
    "outputId": "df23a7c6-49a6-4567-d056-8354dafd0041",
    "vscode": {
     "languageId": "python"
    }
   },
   "outputs": [],
   "source": [
    "## Try to reconstruct ground truth from DS and slewSchedule\n",
    "# Fundamental question: what is the floor for recoverable signal?\n",
    "\n",
    "def normalizedMSE(D0, D1):\n",
    "  # Normalize D0 and D1\n",
    "  D0 -= D0.min()\n",
    "  D0 /= D0.max()\n",
    "  D1 -= D1.min()\n",
    "  D1 /= D1.max()\n",
    "  Derror = D0 - D1\n",
    "  mse = np.mean(Derror.ravel() ** 2)\n",
    "  return mse\n",
    "\n",
    "def normalizedSharpness(D0):\n",
    "  # Normalize D0\n",
    "  D0 -= D0.min()\n",
    "  D0 /= D0.max()\n",
    "  dx = np.diff(D0, axis=1)\n",
    "  dy = np.diff(D0, axis=0)\n",
    "  dnorm = np.sqrt(dx[1:,:]**2 + dy[:,1:]**2)\n",
    "  sharpness = np.mean(dnorm)\n",
    "  return sharpness\n",
    "\n",
    "DC = DS.copy()\n",
    "if 1:  # Normalize the Dc\n",
    "  for i in range(len(DC)):\n",
    "    Dc = DC[i]\n",
    "    Dc -= Dc.min()\n",
    "    Dc /= Dc.max()\n",
    "    DC[i] = Dc\n",
    "\n",
    "if 1: # Normalize D\n",
    "  D -= D.min()\n",
    "  D /= D.max()\n",
    "\n",
    "SHA = []\n",
    "MSE = []\n",
    "\n",
    "# 1. Why does the MSE go *up* in the first iteration?\n",
    "# 2. Is there a way to auto-tune this? (without knowing true Derror)\n",
    "# - Maximize general image sharpness?\n",
    "#  - Sweep beta for max sharpness?\n",
    "for j in range(30):\n",
    "  # DCave is our current best estimate (average of multiple views)\n",
    "  DCave = np.mean(DC, axis=0)\n",
    "  sharpness = normalizedSharpness(DCave.copy())  # Always use copies, to be sure\n",
    "  SHA.append(sharpness)\n",
    "  #print(\"sha\", sharpness)\n",
    "  mse = normalizedMSE(D.copy(), DCave.copy())  # Always use copies, to be sure\n",
    "  MSE.append(mse)\n",
    "  #print(\"mse %.20f\" % mse)\n",
    "  DCnew = []\n",
    "  for i in range(len(slewSchedule)):\n",
    "    slew = slewSchedule[i]\n",
    "    # Apply anti-slew to our current best estimate\n",
    "    DCaves = DCave.copy()\n",
    "    DCaves[:, :100] = np.roll(DCaves[:, :100], slew, axis=0)\n",
    "    DCaves[:, 100:] = np.roll(DCaves[:, 100:], -slew, axis=0)\n",
    "    # Subtract beta * anti-slewed best estimate from the opposing hemisphere\n",
    "    # Note: the ground truth blending function is 0.2, so I think the optimal beta should be 0.25,\n",
    "    # since 1 - 1 / 1.25 = 0.2)\n",
    "    #Dc = DS[i].copy()  # Note: DS[i] is the original observation\n",
    "    #beta = 0.25\n",
    "    # If we don't know optimal beta, using DC and a low beta value *does* lead to some convergence.\n",
    "    Dc = DC[i].copy()\n",
    "    beta = 0.01   \n",
    "    Dc[:, :100] -= beta * np.flip(DCaves[:, 100:], axis=1)\n",
    "    Dc[:, 100:] -= beta * np.flip(DCaves[:, :100], axis=1)\n",
    "    DCnew.append(Dc)\n",
    "  DC = DCnew\n",
    "\n",
    "DCave = np.mean(DC, axis=0)\n",
    "mse = normalizedMSE(D, DCave)\n",
    "print(\"final mse %.20f\" % mse)\n",
    "\n",
    "if 0:\n",
    "  Derror = D - DCave\n",
    "  plt.figure(figsize=(10, 10))\n",
    "  plt.imshow(Derror.T, interpolation='None')\n",
    "  plt.title('Derror')\n",
    "\n",
    "if 1:\n",
    "  plt.figure(figsize=(10, 10))\n",
    "  plt.imshow(DCave.T, interpolation='None')\n",
    "  plt.title('Reconstructed D')\n",
    "\n",
    "if 1:\n",
    "  plt.figure(figsize=(10, 4))\n",
    "  ax1 = plt.gca()\n",
    "  ax1.plot(np.log(MSE), 'r-', label='log(mse)')\n",
    "  ax1.set_ylabel('log(True Mean Squared Error)')\n",
    "  ax2 = plt.gca().twinx()\n",
    "  ax2.plot(np.log(SHA), 'g-', label='log(sharpness)')\n",
    "  ax2.set_ylabel('log(Sharpness')\n",
    "  ax1.legend(loc='upper left')\n",
    "  ax2.legend(loc='lower left')\n",
    "  plt.grid()"
   ]
  },
  {
   "cell_type": "code",
   "execution_count": null,
   "metadata": {
    "vscode": {
     "languageId": "python"
    }
   },
   "outputs": [],
   "source": [
    "import numpy as np\n",
    "from colorsys import hls_to_rgb\n",
    "from matplotlib.colors import hsv_to_rgb\n",
    "\n",
    "# From: https://stackoverflow.com/questions/17044052/matplotlib-imshow-complex-2d-array\n",
    "\n",
    "def Complex2HSV(z, rmin, rmax, hue_start=90):\n",
    "    # get amplidude of z and limit to [rmin, rmax]\n",
    "    amp = np.abs(z)\n",
    "    amp = np.where(amp < rmin, rmin, amp)\n",
    "    amp = np.where(amp > rmax, rmax, amp)\n",
    "    ph = np.angle(z, deg=1) + hue_start\n",
    "    # HSV are values in range [0,1]\n",
    "    h = (ph % 360) / 360\n",
    "    s = 0.85 * np.ones_like(h)\n",
    "    v = (amp - rmin) / (rmax - rmin)\n",
    "    return hsv_to_rgb(np.dstack((h,s,v)))\n",
    "\n",
    "def colorize(z):\n",
    "    r = np.abs(z)\n",
    "    arg = np.angle(z) \n",
    "\n",
    "    h = (arg + np.pi)  / (2 * np.pi) + 0.5\n",
    "    l = 1.0 - 1.0/(1.0 + r**0.3)\n",
    "    s = 0.8\n",
    "\n",
    "    c = np.vectorize(hls_to_rgb) (h,l,s) # --> tuple\n",
    "    c = np.array(c)  # -->  array of (3,n,m) shape, but need (n,m,3)\n",
    "    c = c.transpose(1,2,0)\n",
    "    return c"
   ]
  }
 ],
 "metadata": {
  "kernelspec": {
   "display_name": "Python 3 (ipykernel)",
   "language": "python",
   "name": "python3"
  },
  "orig_nbformat": 4
 },
 "nbformat": 4,
 "nbformat_minor": 2
}
